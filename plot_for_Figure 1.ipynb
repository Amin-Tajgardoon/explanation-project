{
 "cells": [
  {
   "cell_type": "code",
   "execution_count": 1,
   "metadata": {
    "collapsed": true
   },
   "outputs": [],
   "source": [
    "\"\"\"\n",
    "@author: mot16\n",
    "\n",
    "generates the plot for Figure-1 in the ACI Open paper\n",
    "\"\"\"\n",
    "import pandas as pd\n",
    "import numpy as np\n",
    "from explanation_plot import draw_exp_plot\n",
    "from generate_patient_description import raw2desc_val, explanation_info, isin  "
   ]
  },
  {
   "cell_type": "code",
   "execution_count": 2,
   "metadata": {
    "collapsed": true
   },
   "outputs": [],
   "source": [
    "tp_exp_df = pd.read_csv(\"../output/true_tp_explanations.csv\")\n",
    "base = pd.read_csv('../data/base.csv', index_col=0)\n",
    "desc_vars = pd.read_csv(\"../data/desc_vars_2.csv\")"
   ]
  },
  {
   "cell_type": "code",
   "execution_count": 3,
   "metadata": {
    "collapsed": true
   },
   "outputs": [],
   "source": [
    "## pid for the example in the paper\n",
    "pid = 200411"
   ]
  },
  {
   "cell_type": "code",
   "execution_count": 4,
   "metadata": {
    "collapsed": true
   },
   "outputs": [
    {
     "name": "stderr",
     "output_type": "stream",
     "text": [
      "C:\\Users\\mot16\\AppData\\Local\\Continuum\\Anaconda3\\lib\\site-packages\\ipykernel\\__main__.py:23: SettingWithCopyWarning: \n",
      "A value is trying to be set on a copy of a slice from a DataFrame.\n",
      "Try using .loc[row_indexer,col_indexer] = value instead\n",
      "\n",
      "See the caveats in the documentation: http://pandas.pydata.org/pandas-docs/stable/indexing.html#indexing-view-versus-copy\n",
      "C:\\Users\\mot16\\AppData\\Local\\Continuum\\Anaconda3\\lib\\site-packages\\ipykernel\\__main__.py:24: SettingWithCopyWarning: \n",
      "A value is trying to be set on a copy of a slice from a DataFrame\n",
      "\n",
      "See the caveats in the documentation: http://pandas.pydata.org/pandas-docs/stable/indexing.html#indexing-view-versus-copy\n",
      "C:\\Users\\mot16\\AppData\\Local\\Continuum\\Anaconda3\\lib\\site-packages\\ipykernel\\__main__.py:25: SettingWithCopyWarning: \n",
      "A value is trying to be set on a copy of a slice from a DataFrame\n",
      "\n",
      "See the caveats in the documentation: http://pandas.pydata.org/pandas-docs/stable/indexing.html#indexing-view-versus-copy\n",
      "C:\\Users\\mot16\\AppData\\Local\\Continuum\\Anaconda3\\lib\\site-packages\\pandas\\core\\generic.py:7626: SettingWithCopyWarning: \n",
      "A value is trying to be set on a copy of a slice from a DataFrame\n",
      "\n",
      "See the caveats in the documentation: http://pandas.pydata.org/pandas-docs/stable/indexing.html#indexing-view-versus-copy\n",
      "  self._update_inplace(new_data)\n",
      "C:\\Users\\mot16\\AppData\\Local\\Continuum\\Anaconda3\\lib\\site-packages\\IPython\\core\\interactiveshell.py:2885: SettingWithCopyWarning: \n",
      "A value is trying to be set on a copy of a slice from a DataFrame\n",
      "\n",
      "See the caveats in the documentation: http://pandas.pydata.org/pandas-docs/stable/indexing.html#indexing-view-versus-copy\n",
      "  exec(code_obj, self.user_global_ns, self.user_ns)\n"
     ]
    }
   ],
   "source": [
    "## extract prob and exp features\n",
    "prob, exp_ = explanation_info(tp_exp_df, pid)\n",
    "## pick 6 features\n",
    "exp_features = exp_.index[0:6]\n",
    "\n",
    "## map feature names to original names and add unit    \n",
    "exp_varnames = [f.split('=')[0] for f in exp_features]\n",
    "temp_desc_df = desc_vars[desc_vars.port.isin(exp_varnames)]\n",
    "temp_desc_df['sort_exp'] = pd.Categorical(temp_desc_df.port, categories=exp_varnames, ordered=True)\n",
    "temp_desc_df.sort_values('sort_exp', inplace=True)\n",
    "temp_desc_df['unit'][temp_desc_df['unit'].isnull()] = ''\n",
    "\n",
    "feature_values = temp_desc_df['base'].apply(lambda x: raw2desc_val(base, x, pid, desc_vars)).values\n",
    "feature_values = ['%.1f' % e if type(e) == np.float64 else str(e) for e in feature_values]\n",
    "feature_values = feature_values + temp_desc_df['unit'].values\n",
    "\n",
    "labels = temp_desc_df['desc_name'].values + '=' + feature_values\n",
    "weights = exp_.values[0:6]\n",
    "exp_df = pd.DataFrame({'labels':labels, 'weights':weights})\n",
    "\n",
    "draw_exp_plot(exp_df, round(prob,2), \"../output/Figure 1.png\")\n"
   ]
  },
  {
   "cell_type": "code",
   "execution_count": null,
   "metadata": {
    "collapsed": true
   },
   "outputs": [],
   "source": []
  }
 ],
 "metadata": {
  "anaconda-cloud": {},
  "kernelspec": {
   "display_name": "Python [Anaconda3]",
   "language": "python",
   "name": "Python [Anaconda3]"
  },
  "language_info": {
   "codemirror_mode": {
    "name": "ipython",
    "version": 3
   },
   "file_extension": ".py",
   "mimetype": "text/x-python",
   "name": "python",
   "nbconvert_exporter": "python",
   "pygments_lexer": "ipython3",
   "version": "3.5.5"
  }
 },
 "nbformat": 4,
 "nbformat_minor": 0
}
